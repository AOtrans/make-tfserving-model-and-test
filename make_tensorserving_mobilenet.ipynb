{
 "cells": [
  {
   "cell_type": "code",
   "execution_count": 1,
   "metadata": {},
   "outputs": [],
   "source": [
    "from tensorflow.keras.applications.mobilenet_v2 import MobileNetV2\n",
    "from PIL import Image\n",
    "import numpy as np\n",
    "import tensorflow as tf\n",
    "from tensorflow import keras\n",
    "import tensorflow.keras.backend as K\n",
    "from tensorflow.keras import Model\n",
    "import random\n",
    "from tensorflow.keras.utils import to_categorical\n",
    "\n",
    "config = tf.ConfigProto()  \n",
    "config.gpu_options.allow_growth=True\n",
    "session = tf.Session(config=config)\n",
    "K.set_session(session)"
   ]
  },
  {
   "cell_type": "code",
   "execution_count": 2,
   "metadata": {},
   "outputs": [],
   "source": [
    "def save_model_to_serving(inputs, outputs, export_version, export_path):\n",
    "\n",
    "    inputs = tf.saved_model.utils.build_tensor_info(inputs)\n",
    "\n",
    "    outputs = tf.saved_model.utils.build_tensor_info(outputs)\n",
    "    \n",
    "    signature = tf.saved_model.signature_def_utils.build_signature_def(                                                                        \n",
    "        inputs={'x': inputs}, \n",
    "        outputs={'scores':outputs},\n",
    "        method_name=tf.saved_model.signature_constants.PREDICT_METHOD_NAME)\n",
    "    \n",
    "    export_path = export_path+'/'+export_version\n",
    "    builder = tf.saved_model.builder.SavedModelBuilder(export_path)\n",
    "    main_op = tf.group(tf.tables_initializer(), name='main_op')\n",
    "    builder.add_meta_graph_and_variables(\n",
    "        sess=K.get_session(),                                                                                                                    \n",
    "        tags=[tf.saved_model.tag_constants.SERVING],                                                                                             \n",
    "        signature_def_map={                                                                                                                      \n",
    "            'classify_image': signature,                                                                                                                     \n",
    "        },\n",
    "        main_op=main_op)\n",
    "    builder.save()"
   ]
  },
  {
   "cell_type": "code",
   "execution_count": 3,
   "metadata": {},
   "outputs": [],
   "source": [
    "def get_inputs(param):\n",
    "    my_input = tf.map_fn(elems=param, fn=tf.image.decode_jpeg, dtype=tf.uint8)\n",
    "    my_input = K.reshape(my_input,[-1, 224,224,3])\n",
    "    my_input = K.cast(my_input, dtype=tf.float32)\n",
    "    my_input = tf.divide(my_input, tf.constant(127.5))\n",
    "    my_input = tf.subtract(my_input, tf.constant(1.0))\n",
    "    return my_input\n"
   ]
  },
  {
   "cell_type": "code",
   "execution_count": 4,
   "metadata": {},
   "outputs": [
    {
     "name": "stdout",
     "output_type": "stream",
     "text": [
      "INFO:tensorflow:No assets to save.\n",
      "INFO:tensorflow:No assets to write.\n",
      "INFO:tensorflow:SavedModel written to: ./mobilenet/1111/saved_model.pb\n"
     ]
    }
   ],
   "source": [
    "K.set_learning_phase(0)\n",
    "my_input = keras.layers.Input(shape=[],dtype=tf.string)\n",
    "my_input = keras.layers.Lambda(get_inputs, output_shape=(224,224,3))(my_input)\n",
    "\n",
    "base_model = MobileNetV2(alpha=1.4, include_top=False, input_tensor=my_input, weights=None)\n",
    "\n",
    "\n",
    "inputs = base_model.input\n",
    "x = base_model.output\n",
    "x = keras.layers.GlobalAveragePooling2D()(x)\n",
    "y = keras.layers.Dense(2, activation='softmax')(x)\n",
    "\n",
    "model = Model(inputs = inputs, outputs = y)\n",
    "\n",
    "model.compile(optimizer='adam', loss='categorical_crossentropy', metrics=['accuracy'])\n",
    "\n",
    "model.load_weights('mobilenet_best2.h5')\n",
    "\n",
    "save_model_to_serving(model.input, model.output, '1111', './mnet')"
   ]
  },
  {
   "cell_type": "code",
   "execution_count": null,
   "metadata": {},
   "outputs": [],
   "source": []
  }
 ],
 "metadata": {
  "kernelspec": {
   "display_name": "Python 2",
   "language": "python",
   "name": "python2"
  },
  "language_info": {
   "codemirror_mode": {
    "name": "ipython",
    "version": 2
   },
   "file_extension": ".py",
   "mimetype": "text/x-python",
   "name": "python",
   "nbconvert_exporter": "python",
   "pygments_lexer": "ipython2",
   "version": "2.7.12"
  }
 },
 "nbformat": 4,
 "nbformat_minor": 2
}
