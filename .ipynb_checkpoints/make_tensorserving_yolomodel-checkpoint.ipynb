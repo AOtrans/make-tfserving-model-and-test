{
 "cells": [
  {
   "cell_type": "code",
   "execution_count": 1,
   "metadata": {},
   "outputs": [],
   "source": [
    "from Yolo3 import YOLO\n",
    "import tensorflow as tf"
   ]
  },
  {
   "cell_type": "code",
   "execution_count": 2,
   "metadata": {},
   "outputs": [
    {
     "name": "stdout",
     "output_type": "stream",
     "text": [
      "Detection model, /home/sw/Work/tf/yaochang/weights/trained_weights_final.h5 model, 9 anchors, and 1 classes load success!.\n"
     ]
    }
   ],
   "source": [
    "person_detect_model = YOLO()"
   ]
  },
  {
   "cell_type": "code",
   "execution_count": 3,
   "metadata": {},
   "outputs": [
    {
     "name": "stdout",
     "output_type": "stream",
     "text": [
      "[<tf.Tensor 'concat_11:0' shape=(?, 4) dtype=float32>, <tf.Tensor 'concat_12:0' shape=(?,) dtype=float32>, <tf.Tensor 'concat_13:0' shape=(?,) dtype=int32>] Tensor(\"input_1:0\", shape=(?, ?, ?, 3), dtype=float32)\n"
     ]
    }
   ],
   "source": [
    "outputs = person_detect_model.outputs()\n",
    "inputs = tf.convert_to_tensor(person_detect_model.inputs())\n",
    "print outputs, inputs"
   ]
  },
  {
   "cell_type": "code",
   "execution_count": 4,
   "metadata": {},
   "outputs": [],
   "source": [
    "def save_model_to_serving(inputs, outputs, export_version, export_path):\n",
    "    for i in range(len(inputs)):\n",
    "        inputs[i] = tf.saved_model.utils.build_tensor_info(inputs[i])\n",
    "    for i in range(len(outputs)):\n",
    "        outputs[i] = tf.saved_model.utils.build_tensor_info(outputs[i])\n",
    "    \n",
    "    signature = tf.saved_model.signature_def_utils.build_signature_def(                                                                        \n",
    "        inputs={'x': inputs[0],'shape':inputs[1]}, \n",
    "        outputs={'boxes':outputs[0], 'scores':outputs[1], 'classes': outputs[2]},\n",
    "        method_name=tf.saved_model.signature_constants.PREDICT_METHOD_NAME)\n",
    "    \n",
    "    export_path = export_path+'/'+export_version\n",
    "    builder = tf.saved_model.builder.SavedModelBuilder(export_path)\n",
    "    main_op = tf.group(tf.tables_initializer(), name='main_op')\n",
    "    builder.add_meta_graph_and_variables(\n",
    "        sess=person_detect_model.sess,                                                                                                                    \n",
    "        tags=[tf.saved_model.tag_constants.SERVING],                                                                                             \n",
    "        signature_def_map={                                                                                                                      \n",
    "            'detect_image': signature,                                                                                                                     \n",
    "        },\n",
    "        main_op=main_op)\n",
    "    builder.save()"
   ]
  },
  {
   "cell_type": "code",
   "execution_count": 5,
   "metadata": {},
   "outputs": [
    {
     "name": "stdout",
     "output_type": "stream",
     "text": [
      "INFO:tensorflow:No assets to save.\n",
      "INFO:tensorflow:No assets to write.\n",
      "INFO:tensorflow:SavedModel written to: ./yolov3/1111/saved_model.pb\n"
     ]
    }
   ],
   "source": [
    "with person_detect_model.graph.as_default():\n",
    "    save_model_to_serving(inputs, outputs, '1111', './yolov3')"
   ]
  },
  {
   "cell_type": "code",
   "execution_count": null,
   "metadata": {},
   "outputs": [],
   "source": []
  }
 ],
 "metadata": {
  "kernelspec": {
   "display_name": "Python 2",
   "language": "python",
   "name": "python2"
  },
  "language_info": {
   "codemirror_mode": {
    "name": "ipython",
    "version": 2
   },
   "file_extension": ".py",
   "mimetype": "text/x-python",
   "name": "python",
   "nbconvert_exporter": "python",
   "pygments_lexer": "ipython2",
   "version": "2.7.12"
  }
 },
 "nbformat": 4,
 "nbformat_minor": 2
}
